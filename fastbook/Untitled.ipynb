{
 "cells": [
  {
   "cell_type": "code",
   "execution_count": 1,
   "id": "b67b27a5-d0e3-4bc3-a900-1e76d2a4515e",
   "metadata": {},
   "outputs": [
    {
     "name": "stdout",
     "output_type": "stream",
     "text": [
      "Collecting duckduckgo_search\n",
      "  Downloading duckduckgo_search-8.0.1-py3-none-any.whl.metadata (16 kB)\n",
      "Requirement already satisfied: click>=8.1.8 in /Users/jacky_li/github/deep_learning/.venv/lib/python3.12/site-packages (from duckduckgo_search) (8.1.8)\n",
      "Collecting primp>=0.15.0 (from duckduckgo_search)\n",
      "  Downloading primp-0.15.0-cp38-abi3-macosx_11_0_arm64.whl.metadata (13 kB)\n",
      "Requirement already satisfied: lxml>=5.3.0 in /Users/jacky_li/github/deep_learning/.venv/lib/python3.12/site-packages (from duckduckgo_search) (5.4.0)\n",
      "Downloading duckduckgo_search-8.0.1-py3-none-any.whl (18 kB)\n",
      "Downloading primp-0.15.0-cp38-abi3-macosx_11_0_arm64.whl (3.0 MB)\n",
      "\u001b[2K   \u001b[90m━━━━━━━━━━━━━━━━━━━━━━━━━━━━━━━━━━━━━━━━\u001b[0m \u001b[32m3.0/3.0 MB\u001b[0m \u001b[31m22.2 MB/s\u001b[0m eta \u001b[36m0:00:00\u001b[0m\n",
      "\u001b[?25hInstalling collected packages: primp, duckduckgo_search\n",
      "Successfully installed duckduckgo_search-8.0.1 primp-0.15.0\n",
      "\n",
      "\u001b[1m[\u001b[0m\u001b[34;49mnotice\u001b[0m\u001b[1;39;49m]\u001b[0m\u001b[39;49m A new release of pip is available: \u001b[0m\u001b[31;49m24.2\u001b[0m\u001b[39;49m -> \u001b[0m\u001b[32;49m25.0.1\u001b[0m\n",
      "\u001b[1m[\u001b[0m\u001b[34;49mnotice\u001b[0m\u001b[1;39;49m]\u001b[0m\u001b[39;49m To update, run: \u001b[0m\u001b[32;49mpip install --upgrade pip\u001b[0m\n",
      "Note: you may need to restart the kernel to use updated packages.\n"
     ]
    }
   ],
   "source": [
    "pip install duckduckgo_search"
   ]
  },
  {
   "cell_type": "code",
   "execution_count": 1,
   "id": "267bd60c-354b-4818-a1d0-ccb02cc31556",
   "metadata": {},
   "outputs": [
    {
     "ename": "ImportError",
     "evalue": "cannot import name 'ddg_images' from 'duckduckgo_search' (/Users/jacky_li/github/deep_learning/.venv/lib/python3.12/site-packages/duckduckgo_search/__init__.py)",
     "output_type": "error",
     "traceback": [
      "\u001b[31m---------------------------------------------------------------------------\u001b[39m",
      "\u001b[31mImportError\u001b[39m                               Traceback (most recent call last)",
      "\u001b[36mCell\u001b[39m\u001b[36m \u001b[39m\u001b[32mIn[1]\u001b[39m\u001b[32m, line 1\u001b[39m\n\u001b[32m----> \u001b[39m\u001b[32m1\u001b[39m \u001b[38;5;28;01mfrom\u001b[39;00m\u001b[38;5;250m \u001b[39m\u001b[34;01mduckduckgo_search\u001b[39;00m\u001b[38;5;250m \u001b[39m\u001b[38;5;28;01mimport\u001b[39;00m ddg_images\n\u001b[32m      3\u001b[39m \u001b[38;5;66;03m# 返回一个 dict 列表，每个 dict 里有 image（URL）、thumbnail、title……\u001b[39;00m\n\u001b[32m      4\u001b[39m results = ddg_images(\u001b[33m\"\u001b[39m\u001b[33mgrizzly bear\u001b[39m\u001b[33m\"\u001b[39m, max_results=\u001b[32m150\u001b[39m)\n",
      "\u001b[31mImportError\u001b[39m: cannot import name 'ddg_images' from 'duckduckgo_search' (/Users/jacky_li/github/deep_learning/.venv/lib/python3.12/site-packages/duckduckgo_search/__init__.py)"
     ]
    }
   ],
   "source": [
    "from duckduckgo_search import ddg_images\n",
    "\n",
    "# 返回一个 dict 列表，每个 dict 里有 image（URL）、thumbnail、title……\n",
    "results = ddg_images(\"grizzly bear\", max_results=150)\n",
    "urls = [r[\"image\"] for r in results]\n",
    "print(len(urls), \"images found\")"
   ]
  }
 ],
 "metadata": {
  "kernelspec": {
   "display_name": "Python 3 (ipykernel)",
   "language": "python",
   "name": "python3"
  },
  "language_info": {
   "codemirror_mode": {
    "name": "ipython",
    "version": 3
   },
   "file_extension": ".py",
   "mimetype": "text/x-python",
   "name": "python",
   "nbconvert_exporter": "python",
   "pygments_lexer": "ipython3",
   "version": "3.12.7"
  }
 },
 "nbformat": 4,
 "nbformat_minor": 5
}
